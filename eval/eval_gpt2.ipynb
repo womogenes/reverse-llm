{
 "cells": [
  {
   "cell_type": "code",
   "execution_count": 1,
   "id": "978c1e6e",
   "metadata": {},
   "outputs": [],
   "source": [
    "from transformers import GPT2LMHeadModel, PreTrainedTokenizerFast\n",
    "\n",
    "model_name = \"reverse-gpt2-0.35B-fineweb-10BT-ctx-1024\"\n",
    "MODEL_DIR = \"/home/wyf/orcd/pool/reverse-llm/models\"\n",
    "\n",
    "model = GPT2LMHeadModel.from_pretrained(f\"{MODEL_DIR}/{model_name}/checkpoint-9000\")\n",
    "tokenizer = PreTrainedTokenizerFast.from_pretrained(f\"{MODEL_DIR}/{model_name}/checkpoint-9000\")"
   ]
  },
  {
   "cell_type": "code",
   "execution_count": 7,
   "id": "848eddd8",
   "metadata": {},
   "outputs": [
    {
     "name": "stderr",
     "output_type": "stream",
     "text": [
      "Device set to use cuda:0\n"
     ]
    },
    {
     "name": "stdout",
     "output_type": "stream",
     "text": [
      "Harry Potter is an excellent classic nonfiction book. Many fictional characters found in a postmodern novel do not qualify as classic nonfiction books. There are many events taking place when a reader sees a book, but does not know about them. Readers should have a book about them, and get help from thousands of resources to help find them. We refer to each chapter in each chapter in each chapter in this guide as we introduce you to Tolkien's handles, Harry Potter cartoons and more. Harry Potter is one of the classic nonfiction books. The author of Harry Potter is the author of Harry Potter.\n"
     ]
    }
   ],
   "source": [
    "from transformers import pipeline\n",
    "\n",
    "pipe = pipeline(\n",
    "    \"text-generation\",\n",
    "    model=model,\n",
    "    device=0,\n",
    "    max_new_tokens=128,\n",
    "    do_sample=True,\n",
    "    temperature=1.0,\n",
    "    num_return_sequences=1,\n",
    "    pad_token_id=tokenizer.eos_token_id,\n",
    "    eos_token_id=tokenizer.eos_token_id,\n",
    "    bos_token_id=tokenizer.bos_token_id,\n",
    "    clean_up_tokenization_spaces=False,\n",
    "    tokenizer=tokenizer,\n",
    ")\n",
    "\n",
    "in_text = \"\"\"\n",
    "is the author of Harry Potter.\n",
    "\"\"\".strip()[::-1]\n",
    "\n",
    "print(pipe(in_text)[0][\"generated_text\"][::-1])"
   ]
  }
 ],
 "metadata": {
  "kernelspec": {
   "display_name": "torch",
   "language": "python",
   "name": "python3"
  },
  "language_info": {
   "codemirror_mode": {
    "name": "ipython",
    "version": 3
   },
   "file_extension": ".py",
   "mimetype": "text/x-python",
   "name": "python",
   "nbconvert_exporter": "python",
   "pygments_lexer": "ipython3",
   "version": "3.12.11"
  }
 },
 "nbformat": 4,
 "nbformat_minor": 5
}
