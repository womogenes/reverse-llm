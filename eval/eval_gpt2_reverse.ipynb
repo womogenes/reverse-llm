{
 "cells": [
  {
   "cell_type": "code",
   "execution_count": 1,
   "id": "978c1e6e",
   "metadata": {},
   "outputs": [
    {
     "name": "stderr",
     "output_type": "stream",
     "text": [
      "The tokenizer class you load from this checkpoint is not the same type as the class this function is called from. It may result in unexpected tokenization. \n",
      "The tokenizer class you load from this checkpoint is 'GPT2Tokenizer'. \n",
      "The class this function is called from is 'PreTrainedTokenizerFast'.\n"
     ]
    }
   ],
   "source": [
    "from transformers import GPT2LMHeadModel, PreTrainedTokenizerFast\n",
    "\n",
    "model = GPT2LMHeadModel.from_pretrained(\"gpt2\")\n",
    "tokenizer = PreTrainedTokenizerFast.from_pretrained(\"gpt2\")"
   ]
  },
  {
   "cell_type": "code",
   "execution_count": 2,
   "id": "848eddd8",
   "metadata": {},
   "outputs": [
    {
     "name": "stderr",
     "output_type": "stream",
     "text": [
      "Device set to use cuda:0\n",
      "Setting `pad_token_id` to `eos_token_id`:50256 for open-end generation.\n"
     ]
    },
    {
     "name": "stdout",
     "output_type": "stream",
     "text": [
      "Malaysia is a developing region with high levels of natural gas emissions.\n",
      "\n",
      "Under the Indonesian government, there are three projects that have been commissioned to meet the Indonesian government's energy needs, the second is in the second half of 2018 and the third is scheduled to take place in 2019. The second project is to provide 1.5 million LNG exports per year to Malaysia.\n",
      "\n",
      "The third project is expected to have a massive impact on the natural gas price in the region, due to the large demand and supply of natural gas from the South China Sea.\n",
      "\n",
      "The Indonesian government says that it would provide a 10 per cent increase in gas demand from Malaysia to offset the impact of its current energy policy.\n",
      "\n",
      "The decision was made on Saturday as part of Indonesia's annual general meetings.\n"
     ]
    }
   ],
   "source": [
    "from transformers import pipeline\n",
    "\n",
    "pipe = pipeline(\n",
    "    \"text-generation\",\n",
    "    model=\"gpt2\",\n",
    "    device=0,\n",
    "    max_new_tokens=1024,\n",
    "    do_sample=True,\n",
    "    temperature=1.0,\n",
    "    top_p=0.9,\n",
    "    top_k=50,\n",
    "    num_return_sequences=1,\n",
    "    pad_token_id=tokenizer.eos_token_id,\n",
    "    eos_token_id=tokenizer.eos_token_id,\n",
    "    bos_token_id=tokenizer.bos_token_id,\n",
    "    mask_token_id=tokenizer.mask_token_id,\n",
    "    unk_token_id=tokenizer.unk_token_id,\n",
    "    clean_up_tokenization_spaces=False,\n",
    ")\n",
    "\n",
    "in_text = \"\"\"\n",
    "Malaysia is a\n",
    "\"\"\".strip()\n",
    "\n",
    "print(pipe(in_text)[0][\"generated_text\"])"
   ]
  }
 ],
 "metadata": {
  "kernelspec": {
   "display_name": "torch",
   "language": "python",
   "name": "python3"
  },
  "language_info": {
   "codemirror_mode": {
    "name": "ipython",
    "version": 3
   },
   "file_extension": ".py",
   "mimetype": "text/x-python",
   "name": "python",
   "nbconvert_exporter": "python",
   "pygments_lexer": "ipython3",
   "version": "3.12.11"
  }
 },
 "nbformat": 4,
 "nbformat_minor": 5
}
